{
 "cells": [
  {
   "cell_type": "code",
   "execution_count": 1,
   "metadata": {},
   "outputs": [],
   "source": [
    "import nest_asyncio\n",
    "nest_asyncio.apply()"
   ]
  },
  {
   "cell_type": "code",
   "execution_count": 2,
   "metadata": {},
   "outputs": [],
   "source": [
    "import twint"
   ]
  },
  {
   "cell_type": "code",
   "execution_count": 3,
   "metadata": {},
   "outputs": [
    {
     "name": "stdout",
     "output_type": "stream",
     "text": [
      "1611190758287212544 2023-01-05 18:39:45 -0800 <GunDeaths> American gun violence data in the new year, as of 1/5:  –238 deaths –500 injuries –10 mass shootings –7 children killed | 4 children injured –21 teenagers killed | 62 teenagers injured –14 defensive incidents –30 unintentional shootings -12 murder-suicides\n",
      "1611189508862799877 2023-01-05 18:34:48 -0800 <i4ottt> @CadillacKasper @TimmerMcGraw @Shelly3177 @SoSimpleJack @ChicagoContrar1 Depends on what you consider a mass shooting to be. There's many different criteria that articles go by. 80-88% of mass shootings where 4 or more ppl die / get injured, are gang and domestic violence related.\n",
      "1611189018607161344 2023-01-05 18:32:51 -0800 <bob250004> @ianfarrow That's a baby kangaroo. I like how you care more about kangaroos than the mass shooting that happened in Australia 3 weeks ago. But when mass shootings happen in America that feds let happen so they could get guns banned and have control over us like they have over you.\n",
      "1611187864427188224 2023-01-05 18:28:15 -0800 <tee_go_go> @RonFilipkowski AND there will be no more laughing at the handicapped. No more taunting parents who have lost children to gun violence AND no more taunting the children who have been directly affected by mass shootings- If the Dems get their way- ALL that goes!!!\n",
      "1611187862975959041 2023-01-05 18:28:15 -0800 <iWestSide24> @RepBoebert Hey BoBo the clown...remember when you said, \"Mass shootings don't happen in states that allow citizens access to guns\" (not verbatim)...well...domestic or not, THIS was a mass shooting...so what's your demented logic on this? Where was the \"good guy with a gun\"??????  https://t.co/IxuSdGmu0A\n",
      "1611183687881875456 2023-01-05 18:11:40 -0800 <SisterRay13> @KelvinL84521157 @MyLordBebo Did I say peace? I said the massive amounts of gun related violence, the massive amount of mass shootings. Why continue to argue when you are making these absurd comments?\n",
      "1611181934373117952 2023-01-05 18:04:42 -0800 <jared19962> @pdqsailor_57 @CalibreObscura 3 gun would like word with you. Service rifle competition? Mass hog hunting? Home defense? Target shooting? Can anyone that actually owns guns explain to me why a .223 carbine has no sporting use?\n",
      "1611180357625303042 2023-01-05 17:58:26 -0800 <EthanObama> These type of mass shootings happen every single day in this country but never get the same kind of attention as a school shooting.  It's the guns, folks.  Utah shooting: A man killed his family after wife filed for divorce.  https://t.co/Fseqm6Lyd2  via @GoogleNews\n",
      "1611167231991332864 2023-01-05 17:06:16 -0800 <Jocava327919> @oldnavysealscpo Show me what u like but again it’s not the guns fault. Criminals n crazies r resourceful people. If it’s not a gun it’ll b something else so get off ur high horse and mass shootings. Bottom line it’s people. We’re living in the dumbest most psychotic society ever.\n",
      "1611167152584953859 2023-01-05 17:05:57 -0800 <DanaDil27897719> @newschannelnine @jaclyn_davisnc9 92% of all violent crimes are committed without guns. 94% of all mass shootings are in gun free zones. There are hundreds of thousands of people saved from death and destruction by having a firearm every year. The founding fathers were very intelligent with the 2nd amendment.\n",
      "1611163291128320007 2023-01-05 16:50:37 -0800 <marlonoreilly> @WeAreCanProud @PierrePoilievre ONE HUNDRED PERCENT!! It is not a solution. Just like taking away legal firearms owner's guns away, it doesn't help mass shootings or any shooting for that matter. When you get fat do you blame the fork? When a drunk driver kills a pedestrian, do you blame the car? #COMMONSENSE\n",
      "1611160261880168449 2023-01-05 16:38:34 -0800 <TimothyTobias2> @mean_spaghetti @BBHall2002 @CaseyDeSantis @GovRonDeSantis Why do mass shootings always happen in gun free zones where there are NO guns allowed?\n",
      "1611157180102868992 2023-01-05 16:26:20 -0800 <MikenzieFrost> Bates brings up mass shooting of 5 high school students, killing 1.  \"We have to do something. Enough is enough. Right now what I see happening - are illegal guns. We aren't saying we want to lock you up and throw away the key - we are saying leave your illegal gun at home.\"\n",
      "1611156960941903872 2023-01-05 16:25:27 -0800 <Josh0turbo> @KaitlynQ2002 @JoeBiden Yes that's why so many mass shootings happen where guns aren't allowed. That's why the cartel runs Mexico they have gun control their seem to work great lol. Also all you say is rendered irrelevant as you support the biggest scam of are time. Get smarter.\n",
      "1611147307592089601 2023-01-05 15:47:06 -0800 <AsayTonya> Boebert and her guns. The # of mass shootings that have occurred in this country are staggering and this is what represents the Rep party. It’s a slap in the face to victims and families of gun violence. 0 morals 0 shame  #RepublicansAreTheProblem\n",
      "1611138007968673792 2023-01-05 15:10:09 -0800 <Charvettebey> 5 shot, A 16 year old killed &amp; yesterday in a mass shooting in Baltimore city outside the neighborhood Popeyes.   He was shot multiple times, the family is devastated.   The number 1 cause of death in the US of children is gun violence.\n",
      "1611137930852171781 2023-01-05 15:09:50 -0800 <SkepticalGeol> @AmySwearer Just a few months ago: Governor Murphy sees a mass shooting in Texas and calls for more gun control in New Jersey.  Extrapolate that backwards a few decades and one could see how we got to the ostensible conclusion that fewer guns = fewer gun deaths\n",
      "1611136079066984453 2023-01-05 15:02:29 -0800 <karendnj13> Well, GOP'S almost got their wish grant, aft all the Violence rhetoric AGAINST LGBTQ! Another mass Shooting! Man arrested after alleged threat of mass shooting against LGBTQ people  https://t.co/4DY9MVrM7A #SmartNews\n",
      "1611133830043140096 2023-01-05 14:53:33 -0800 <2ndATexan> @bazakel @Sevy_ec 84% of homicides occur in Democrat enclaves. More than half of homicides occur in just 2% of US counties. California has all of the gun control Democrats want yet leads the nation in homicides and mass shootings.  The problem is obvious and it isn't guns.  https://t.co/mI78596d1s\n",
      "1611127892163055616 2023-01-05 14:29:57 -0800 <piperscreekway> I'm seeing a lot of posters defining the Utah shooting as a \"mass shooting.\" Wiki says famicides, gang violence &amp; armed robberies are generally excluded from that definition. This was famicide. His wife had filed for divorce &amp; he shot her, her mother, their 5 children &amp; himself.\n"
     ]
    }
   ],
   "source": [
    "#Configure \n",
    "c = twint.Config()\n",
    "# c.Username = ''\n",
    "c.Limit = 1 \n",
    "c.Search = ['Mass Shooting OR Homicide OR Gun Violence OR Guns']\n",
    "\n",
    "#Run \n",
    "twint.run.Search(c)"
   ]
  },
  {
   "cell_type": "code",
   "execution_count": 23,
   "metadata": {},
   "outputs": [
    {
     "ename": "AttributeError",
     "evalue": "module 'twint.storage.panda' has no attribute 'tweets_df'",
     "output_type": "error",
     "traceback": [
      "\u001b[0;31m---------------------------------------------------------------------------\u001b[0m",
      "\u001b[0;31mAttributeError\u001b[0m                            Traceback (most recent call last)",
      "\u001b[1;32m/Users/brittanieocampo/Desktop/Scraping/twint.ipynb Cell 4\u001b[0m in \u001b[0;36m<cell line: 5>\u001b[0;34m()\u001b[0m\n\u001b[1;32m      <a href='vscode-notebook-cell:/Users/brittanieocampo/Desktop/Scraping/twint.ipynb#ch0000004?line=1'>2</a>\u001b[0m \u001b[39mimport\u001b[39;00m \u001b[39mpandas\u001b[39;00m \n\u001b[1;32m      <a href='vscode-notebook-cell:/Users/brittanieocampo/Desktop/Scraping/twint.ipynb#ch0000004?line=2'>3</a>\u001b[0m c\u001b[39m.\u001b[39mPandas \u001b[39m=\u001b[39m \u001b[39mTrue\u001b[39;00m\n\u001b[0;32m----> <a href='vscode-notebook-cell:/Users/brittanieocampo/Desktop/Scraping/twint.ipynb#ch0000004?line=4'>5</a>\u001b[0m tweets_df \u001b[39m=\u001b[39m twint\u001b[39m.\u001b[39;49mstorage\u001b[39m.\u001b[39;49mpanda\u001b[39m.\u001b[39;49mtweets_df\n",
      "\u001b[0;31mAttributeError\u001b[0m: module 'twint.storage.panda' has no attribute 'tweets_df'"
     ]
    }
   ],
   "source": [
    "#Store as Pandas DataFrame\n",
    "import pandas \n",
    "c.Pandas = True\n",
    "\n",
    "tweets_df = twint.storage.panda.tweets_df"
   ]
  }
 ],
 "metadata": {
  "kernelspec": {
   "display_name": "Python 3.9.12 ('base')",
   "language": "python",
   "name": "python3"
  },
  "language_info": {
   "codemirror_mode": {
    "name": "ipython",
    "version": 3
   },
   "file_extension": ".py",
   "mimetype": "text/x-python",
   "name": "python",
   "nbconvert_exporter": "python",
   "pygments_lexer": "ipython3",
   "version": "3.9.12"
  },
  "orig_nbformat": 4,
  "vscode": {
   "interpreter": {
    "hash": "451d2264f7fe9ea4aed8c4fe3c72fa0b32d9ba08acb963d1646278e19bdadf77"
   }
  }
 },
 "nbformat": 4,
 "nbformat_minor": 2
}
